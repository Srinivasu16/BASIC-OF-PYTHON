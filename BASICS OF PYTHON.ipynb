{
  "nbformat": 4,
  "nbformat_minor": 0,
  "metadata": {
    "colab": {
      "provenance": []
    },
    "kernelspec": {
      "name": "python3",
      "display_name": "Python 3"
    },
    "language_info": {
      "name": "python"
    }
  },
  "cells": [
    {
      "cell_type": "markdown",
      "source": [
        "# **PRIME NUMBER**"
      ],
      "metadata": {
        "id": "zkSOWeAx3Ep4"
      }
    },
    {
      "cell_type": "code",
      "source": [
        "def prime(number):\n",
        "    if number >1:\n",
        "        for i in range(2,number):\n",
        "            if number % i ==0:\n",
        "                return(\" not a prime\")\n",
        "        return(\"prime\")\n",
        "    return(\"not a prime\")\n",
        "s=int(input(\"enter the number :\"))\n",
        "print(prime(s))"
      ],
      "metadata": {
        "colab": {
          "base_uri": "https://localhost:8080/"
        },
        "id": "CVOftaZP3JmB",
        "outputId": "c3aa5425-96d2-4b93-ff8b-05b5ec15fbab"
      },
      "execution_count": 2,
      "outputs": [
        {
          "output_type": "stream",
          "name": "stdout",
          "text": [
            "enter the number :5\n",
            "prime\n"
          ]
        }
      ]
    },
    {
      "cell_type": "markdown",
      "source": [
        "# **Product of Random Numbers**"
      ],
      "metadata": {
        "id": "sIrcD-6b3tpA"
      }
    },
    {
      "cell_type": "code",
      "source": [
        "import random\n",
        "num1 = random.randint(1, 10)\n",
        "num2 = random.randint(1, 10)\n",
        "correct_product = num1 * num2\n",
        "user_product = int(input(f\"What is the product of {num1} and {num2}? \"))\n",
        "if user_product == correct_product:\n",
        "    print(\"Correct!\")\n",
        "else:\n",
        "    print(f\"Incorrect. The correct answer is {correct_product}\")\n"
      ],
      "metadata": {
        "colab": {
          "base_uri": "https://localhost:8080/"
        },
        "id": "PBXaUjqH3rBV",
        "outputId": "6a77e761-e072-44a3-af01-6a29a4000f2e"
      },
      "execution_count": 4,
      "outputs": [
        {
          "output_type": "stream",
          "name": "stdout",
          "text": [
            "What is the product of 3 and 2? 6\n",
            "Correct!\n"
          ]
        }
      ]
    },
    {
      "cell_type": "markdown",
      "source": [
        "# **Squares of Even/Odd Numbers**"
      ],
      "metadata": {
        "id": "MPDGSx6n4u26"
      }
    },
    {
      "cell_type": "code",
      "source": [
        "for i in range (100,201):\n",
        "    if i %2==0:\n",
        "        print(\"even squares:\",(i**2))\n",
        "    else:\n",
        "        print(\"odd number squares :\",(i**2))"
      ],
      "metadata": {
        "colab": {
          "base_uri": "https://localhost:8080/"
        },
        "id": "dh1PqA9y4dIb",
        "outputId": "c4fb3b49-df71-4ba6-eae5-103b95268be2"
      },
      "execution_count": 7,
      "outputs": [
        {
          "output_type": "stream",
          "name": "stdout",
          "text": [
            "even squares: 10000\n",
            "odd number squares : 10201\n",
            "even squares: 10404\n",
            "odd number squares : 10609\n",
            "even squares: 10816\n",
            "odd number squares : 11025\n",
            "even squares: 11236\n",
            "odd number squares : 11449\n",
            "even squares: 11664\n",
            "odd number squares : 11881\n",
            "even squares: 12100\n",
            "odd number squares : 12321\n",
            "even squares: 12544\n",
            "odd number squares : 12769\n",
            "even squares: 12996\n",
            "odd number squares : 13225\n",
            "even squares: 13456\n",
            "odd number squares : 13689\n",
            "even squares: 13924\n",
            "odd number squares : 14161\n",
            "even squares: 14400\n",
            "odd number squares : 14641\n",
            "even squares: 14884\n",
            "odd number squares : 15129\n",
            "even squares: 15376\n",
            "odd number squares : 15625\n",
            "even squares: 15876\n",
            "odd number squares : 16129\n",
            "even squares: 16384\n",
            "odd number squares : 16641\n",
            "even squares: 16900\n",
            "odd number squares : 17161\n",
            "even squares: 17424\n",
            "odd number squares : 17689\n",
            "even squares: 17956\n",
            "odd number squares : 18225\n",
            "even squares: 18496\n",
            "odd number squares : 18769\n",
            "even squares: 19044\n",
            "odd number squares : 19321\n",
            "even squares: 19600\n",
            "odd number squares : 19881\n",
            "even squares: 20164\n",
            "odd number squares : 20449\n",
            "even squares: 20736\n",
            "odd number squares : 21025\n",
            "even squares: 21316\n",
            "odd number squares : 21609\n",
            "even squares: 21904\n",
            "odd number squares : 22201\n",
            "even squares: 22500\n",
            "odd number squares : 22801\n",
            "even squares: 23104\n",
            "odd number squares : 23409\n",
            "even squares: 23716\n",
            "odd number squares : 24025\n",
            "even squares: 24336\n",
            "odd number squares : 24649\n",
            "even squares: 24964\n",
            "odd number squares : 25281\n",
            "even squares: 25600\n",
            "odd number squares : 25921\n",
            "even squares: 26244\n",
            "odd number squares : 26569\n",
            "even squares: 26896\n",
            "odd number squares : 27225\n",
            "even squares: 27556\n",
            "odd number squares : 27889\n",
            "even squares: 28224\n",
            "odd number squares : 28561\n",
            "even squares: 28900\n",
            "odd number squares : 29241\n",
            "even squares: 29584\n",
            "odd number squares : 29929\n",
            "even squares: 30276\n",
            "odd number squares : 30625\n",
            "even squares: 30976\n",
            "odd number squares : 31329\n",
            "even squares: 31684\n",
            "odd number squares : 32041\n",
            "even squares: 32400\n",
            "odd number squares : 32761\n",
            "even squares: 33124\n",
            "odd number squares : 33489\n",
            "even squares: 33856\n",
            "odd number squares : 34225\n",
            "even squares: 34596\n",
            "odd number squares : 34969\n",
            "even squares: 35344\n",
            "odd number squares : 35721\n",
            "even squares: 36100\n",
            "odd number squares : 36481\n",
            "even squares: 36864\n",
            "odd number squares : 37249\n",
            "even squares: 37636\n",
            "odd number squares : 38025\n",
            "even squares: 38416\n",
            "odd number squares : 38809\n",
            "even squares: 39204\n",
            "odd number squares : 39601\n",
            "even squares: 40000\n"
          ]
        }
      ]
    },
    {
      "cell_type": "markdown",
      "source": [
        "# **Word counter**"
      ],
      "metadata": {
        "id": "IYAxzwRx5n-8"
      }
    },
    {
      "cell_type": "code",
      "source": [
        "def word_counter(input_text):\n",
        "    words = input_text.split()\n",
        "    word_counts = {}\n",
        "    for word in words:\n",
        "        word = word.strip('.,!?\"').lower()\n",
        "        if word:\n",
        "            if word in word_counts:\n",
        "                word_counts[word] += 1\n",
        "            else:\n",
        "                word_counts[word] = 1\n",
        "    return word_counts\n",
        "input_text = \"This is a sample text. This text will be used to demonstrate the word counter.\"\n",
        "result = word_counter(input_text)\n",
        "for word, count in result.items():\n",
        "    print(f\"'{word}': {count}\")"
      ],
      "metadata": {
        "colab": {
          "base_uri": "https://localhost:8080/"
        },
        "id": "whDxzyYN5_MA",
        "outputId": "c5502179-85e0-49a1-d170-c85c831f7797"
      },
      "execution_count": 13,
      "outputs": [
        {
          "output_type": "stream",
          "name": "stdout",
          "text": [
            "'this': 2\n",
            "'is': 1\n",
            "'a': 1\n",
            "'sample': 1\n",
            "'text': 2\n",
            "'will': 1\n",
            "'be': 1\n",
            "'used': 1\n",
            "'to': 1\n",
            "'demonstrate': 1\n",
            "'the': 1\n",
            "'word': 1\n",
            "'counter': 1\n"
          ]
        }
      ]
    },
    {
      "cell_type": "markdown",
      "source": [
        "# **Check for Palindrome**"
      ],
      "metadata": {
        "id": "42QTcljC6cLL"
      }
    },
    {
      "cell_type": "code",
      "source": [
        "def palindrom(palindrom_str):\n",
        "    return palindrom_str==palindrom_str[::-1]\n",
        "palindrom_str=input(\"enter the palindrom word :\")\n",
        "answer=palindrom(palindrom_str)\n",
        "if answer:\n",
        "    print(\"True\")\n",
        "else:\n",
        "    print(\"False\")"
      ],
      "metadata": {
        "colab": {
          "base_uri": "https://localhost:8080/"
        },
        "id": "7-4HVy4Y6M2o",
        "outputId": "667b11b6-d9c6-4540-bc32-a66cbf046bad"
      },
      "execution_count": 14,
      "outputs": [
        {
          "output_type": "stream",
          "name": "stdout",
          "text": [
            "enter the palindrom word :RACECAR\n",
            "True\n"
          ]
        }
      ]
    },
    {
      "cell_type": "code",
      "source": [],
      "metadata": {
        "id": "BHTBtNoZ7BGF"
      },
      "execution_count": null,
      "outputs": []
    }
  ]
}